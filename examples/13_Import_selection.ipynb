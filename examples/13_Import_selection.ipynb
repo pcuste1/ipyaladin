{
 "cells": [
  {
   "cell_type": "code",
   "execution_count": null,
   "id": "4e9885e3-2648-4308-8d8d-0001408a62fe",
   "metadata": {},
   "outputs": [],
   "source": [
    "from ipyaladin import Aladin"
   ]
  },
  {
   "cell_type": "code",
   "execution_count": null,
   "id": "72180ae5-f9ec-4355-9497-200439da187b",
   "metadata": {},
   "outputs": [],
   "source": [
    "aladin_a = Aladin(\n",
    "    survey=\"CDS/P/DECaPS/DR1/color\",\n",
    "    show_coo_grid=True,\n",
    "    target=\"galactic center\",\n",
    "    coo_frame=\"galactic\",\n",
    "    fov=40,\n",
    "    height=400,\n",
    "    samp=True,\n",
    ")\n",
    "\n",
    "aladin_a"
   ]
  },
  {
   "cell_type": "code",
   "execution_count": null,
   "id": "32ab2f0d-4d83-4599-8a47-77d91700bc43",
   "metadata": {},
   "outputs": [],
   "source": [
    "aladin_b = Aladin(\n",
    "    survey=\"CDS/P/DECaPS/DR1/color\",\n",
    "    show_coo_grid=True,\n",
    "    target=\"galactic center\",\n",
    "    coo_frame=\"galactic\",\n",
    "    fov=40,\n",
    "    height=400,\n",
    "    samp=True,\n",
    ")\n",
    "\n",
    "aladin_b"
   ]
  },
  {
   "cell_type": "code",
   "execution_count": null,
   "id": "ff6149c3-a062-42b2-a12e-9ff8ba112dfa",
   "metadata": {},
   "outputs": [],
   "source": [
    "def update_select(_: None) -> None:\n",
    "    \"\"\"Update the selection of Aladin b using the import_selection method.\n",
    "\n",
    "    Parameters\n",
    "    ----------\n",
    "    _: None\n",
    "        unused\n",
    "    \"\"\"\n",
    "    selection = aladin_a.selected_objects_raw[0]\n",
    "    aladin_b.import_selection(selection=selection)\n",
    "\n",
    "\n",
    "aladin_a.set_listener(\"select\", update_select)"
   ]
  },
  {
   "cell_type": "code",
   "execution_count": null,
   "id": "b2ff5cf2-b248-42d9-9223-eef15d32bd22",
   "metadata": {},
   "outputs": [],
   "source": []
  }
 ],
 "metadata": {},
 "nbformat": 4,
 "nbformat_minor": 5
}
